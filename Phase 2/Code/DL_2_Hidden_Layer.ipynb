{
  "nbformat": 4,
  "nbformat_minor": 0,
  "metadata": {
    "colab": {
      "name": "DL_2_Hidden_Layer.ipynb",
      "provenance": [],
      "collapsed_sections": []
    },
    "kernelspec": {
      "name": "python3",
      "display_name": "Python 3"
    },
    "language_info": {
      "name": "python"
    }
  },
  "cells": [
    {
      "cell_type": "markdown",
      "metadata": {
        "id": "hPSWWNbr0dGk"
      },
      "source": [
        "## **Mount Drive**"
      ]
    },
    {
      "cell_type": "code",
      "metadata": {
        "colab": {
          "base_uri": "https://localhost:8080/"
        },
        "id": "Vbh-1Kbc5akR",
        "outputId": "73388ce1-da51-4385-f5ec-5a973c4345f1"
      },
      "source": [
        "from google.colab import drive\n",
        "from google.colab import files\n",
        "print(\"Getting Data from Google drive\")\n",
        "drive.mount('/content/drive/', force_remount =\"True\")"
      ],
      "execution_count": null,
      "outputs": [
        {
          "output_type": "stream",
          "text": [
            "Getting Data from Google drive\n",
            "Mounted at /content/drive/\n"
          ],
          "name": "stdout"
        }
      ]
    },
    {
      "cell_type": "markdown",
      "metadata": {
        "id": "4_rp-SHv0g0g"
      },
      "source": [
        "## **Read Data**"
      ]
    },
    {
      "cell_type": "code",
      "metadata": {
        "colab": {
          "base_uri": "https://localhost:8080/"
        },
        "id": "HfsYu0Xk5gex",
        "outputId": "813de9e2-78c7-4b1f-800b-95b6443f5b0c"
      },
      "source": [
        "import numpy as nm  \n",
        "from sklearn.metrics import confusion_matrix\n",
        "import matplotlib.pyplot as mtp  \n",
        "import pandas as pd  \n",
        "data_set= pd.read_csv('/content/drive/MyDrive/BTP/kddcup.data.csv') \n",
        "#data_Set = data_set.dropna('columns')\n",
        "x= data_set.iloc[:, 0:41].values \n",
        "y= data_set.iloc[:, 41].values  \n",
        "d = {}\n",
        "# Counting data poihnts of each class\n",
        "for val in y:\n",
        "  if val in d:\n",
        "    d[val] = d[val]+1\n",
        "  else:\n",
        "    d[val] = 1\n",
        "\n",
        "print(d)\n",
        "\n",
        "from sklearn.preprocessing import LabelEncoder  \n",
        "label_encoder_x1= LabelEncoder()  \n",
        "label_encoder_x2= LabelEncoder() \n",
        "label_encoder_x3= LabelEncoder()  \n",
        "    \n",
        "x[:, 1]= label_encoder_x1.fit_transform(x[:, 1])  \n",
        "x[:, 2]= label_encoder_x2.fit_transform(x[:, 2])  \n",
        "x[:, 3]= label_encoder_x3.fit_transform(x[:, 3]) \n",
        "\n",
        "attack_class = {'normal.': 'Normal', 'back.': 'DOS', 'smurf.':'DOS', 'neptune.':'DOS', 'pod.': 'DOS', 'teardrop.':'DOS', 'land.': 'DOS',\n",
        "                'multihop.':'R2L', 'ftp_write.': 'R2L', 'guess_passwd.': 'R2L', 'imap.': 'R2L', 'phf.': 'R2L', 'spy.':'R2L', 'warezmaster.':'R2L', 'warezclient.':'R2L',\n",
        "                'rootkit.':'U2R', 'loadmodule.':'U2R', 'buffer_overflow.': 'U2R', 'perl.': 'U2R',\n",
        "                'portsweep.':'PROBE', 'satan.':'PROBE', 'ipsweep.': 'PROBE', 'nmap.':'PROBE'}\n",
        "\n",
        " \n",
        "\n",
        "\n",
        "\n",
        "for i in range(len(y)):\n",
        "  y[i] = attack_class[y[i]]\n",
        "\n",
        "#for i in range(len(y_test)):\n",
        "#  y[i] = attack_class[y_test[i]]\n",
        "\n",
        "\n",
        "for i in range(len(y)):\n",
        "  if y[i] == 'Normal':\n",
        "    y[i] = 0\n",
        "  else:\n",
        "    y[i] = 1\n",
        "\n"
      ],
      "execution_count": null,
      "outputs": [
        {
          "output_type": "stream",
          "text": [
            "{'normal.': 972780, 'buffer_overflow.': 30, 'loadmodule.': 9, 'perl.': 3, 'neptune.': 1072017, 'smurf.': 2807886, 'guess_passwd.': 53, 'pod.': 264, 'teardrop.': 979, 'portsweep.': 10413, 'ipsweep.': 12481, 'land.': 21, 'ftp_write.': 8, 'back.': 2203, 'imap.': 12, 'satan.': 15892, 'phf.': 4, 'nmap.': 2316, 'multihop.': 7, 'warezmaster.': 20, 'warezclient.': 1020, 'spy.': 2, 'rootkit.': 10}\n"
          ],
          "name": "stdout"
        }
      ]
    },
    {
      "cell_type": "markdown",
      "metadata": {
        "id": "3cGQVNhZ0jqq"
      },
      "source": [
        "## **Encode and Split Data**"
      ]
    },
    {
      "cell_type": "code",
      "metadata": {
        "id": "Jo47y98S5rMq"
      },
      "source": [
        "from keras.utils import np_utils\n",
        "from sklearn.model_selection import cross_val_score\n",
        "from sklearn.model_selection import KFold\n",
        "from sklearn.preprocessing import LabelEncoder"
      ],
      "execution_count": null,
      "outputs": []
    },
    {
      "cell_type": "code",
      "metadata": {
        "id": "6jDjDmk25u57"
      },
      "source": [
        "# encode class values as integers\n",
        "encoder = LabelEncoder()\n",
        "encoder.fit(y)\n",
        "encoded_Y = encoder.transform(y)\n",
        "# convert integers to dummy variables (i.e. one hot encoded)\n",
        "dummy_y = np_utils.to_categorical(encoded_Y)\n",
        "\n",
        "from sklearn.model_selection import train_test_split  \n",
        "x_train, x_test, y_train, y_test= train_test_split(x, dummy_y, test_size= 0.30, random_state=0)"
      ],
      "execution_count": null,
      "outputs": []
    },
    {
      "cell_type": "code",
      "metadata": {
        "id": "qNv9c11AwJ9H"
      },
      "source": [
        "from sklearn.model_selection import train_test_split  \n",
        "x_train, x_test, y_train, y_test= train_test_split(x, y, test_size= 0.30, random_state=0)"
      ],
      "execution_count": null,
      "outputs": []
    },
    {
      "cell_type": "markdown",
      "metadata": {
        "id": "7p6ih_iC0pwF"
      },
      "source": [
        "## **Binary (2 Classes) Classification**"
      ]
    },
    {
      "cell_type": "code",
      "metadata": {
        "id": "9VS6n6wowRHt"
      },
      "source": [
        "from keras.models import Sequential\n",
        "\n",
        "# Import `Dense` from `keras.layers`\n",
        "from keras.layers import Dense\n",
        "model = Sequential()\n",
        "model.add(Dense(12, input_dim=41, activation='relu'))\n",
        "model.add(Dense(8, activation='relu'))\n",
        "model.add(Dense(1, activation='sigmoid'))\n",
        "\n",
        "model.compile(loss='binary_crossentropy', optimizer='adam', metrics=['accuracy'])"
      ],
      "execution_count": null,
      "outputs": []
    },
    {
      "cell_type": "markdown",
      "metadata": {
        "id": "UqMJWc1_0vB4"
      },
      "source": [
        "# Training"
      ]
    },
    {
      "cell_type": "code",
      "metadata": {
        "colab": {
          "base_uri": "https://localhost:8080/"
        },
        "id": "5j3T3Ha2wVOf",
        "outputId": "1905c6b4-9b3b-4117-fe17-724e1fc35e6a"
      },
      "source": [
        "import numpy as np\n",
        "import time\n",
        "#y_train = np.asarray(y_train).astype('float32')\n",
        "#x_train = np.asarray(x_train).astype('float32')\n",
        "time_start = time.time()\n",
        "model.fit(x_train, y_train, epochs=10, batch_size=10)\n",
        "time_end = time.time()\n",
        "print(\"Training time: \", time_end - time_start)"
      ],
      "execution_count": null,
      "outputs": [
        {
          "output_type": "stream",
          "text": [
            "Epoch 1/10\n",
            "342891/342891 [==============================] - 401s 1ms/step - loss: 1.3140 - accuracy: 0.9962\n",
            "Epoch 2/10\n",
            "342891/342891 [==============================] - 401s 1ms/step - loss: 1.0707 - accuracy: 0.9988\n",
            "Epoch 3/10\n",
            "342891/342891 [==============================] - 401s 1ms/step - loss: 2.2420 - accuracy: 0.9987\n",
            "Epoch 4/10\n",
            "342891/342891 [==============================] - 400s 1ms/step - loss: 80.2555 - accuracy: 0.9988\n",
            "Epoch 5/10\n",
            "342891/342891 [==============================] - 400s 1ms/step - loss: 15.8719 - accuracy: 0.9984\n",
            "Epoch 6/10\n",
            "342891/342891 [==============================] - 400s 1ms/step - loss: 0.0082 - accuracy: 0.9989\n",
            "Epoch 7/10\n",
            "342891/342891 [==============================] - 401s 1ms/step - loss: 0.0080 - accuracy: 0.9990\n",
            "Epoch 8/10\n",
            "342891/342891 [==============================] - 403s 1ms/step - loss: 0.0067 - accuracy: 0.9990\n",
            "Epoch 9/10\n",
            "342891/342891 [==============================] - 402s 1ms/step - loss: 0.0069 - accuracy: 0.9991\n",
            "Epoch 10/10\n",
            "342891/342891 [==============================] - 404s 1ms/step - loss: 1.6838 - accuracy: 0.9989\n",
            "Training time:  4012.9618487358093\n"
          ],
          "name": "stdout"
        }
      ]
    },
    {
      "cell_type": "markdown",
      "metadata": {
        "id": "jRq-djCF0yfW"
      },
      "source": [
        "# Testing"
      ]
    },
    {
      "cell_type": "code",
      "metadata": {
        "id": "6B-bbgIQwd1t"
      },
      "source": [
        "y_test = np.asarray(y_test).astype('float32')\n",
        "x_test = np.asarray(x_test).astype('float32')"
      ],
      "execution_count": null,
      "outputs": []
    },
    {
      "cell_type": "code",
      "metadata": {
        "colab": {
          "base_uri": "https://localhost:8080/"
        },
        "id": "LvwHGNCRyZGO",
        "outputId": "ccd0b7a6-76dc-4f6c-a2ec-7516bc952101"
      },
      "source": [
        "_, accuracy = model.evaluate(x_test, y_test)"
      ],
      "execution_count": null,
      "outputs": [
        {
          "output_type": "stream",
          "text": [
            "45923/45923 [==============================] - 39s 854us/step - loss: 3.6912 - accuracy: 0.9989\n"
          ],
          "name": "stdout"
        }
      ]
    },
    {
      "cell_type": "code",
      "metadata": {
        "colab": {
          "base_uri": "https://localhost:8080/"
        },
        "id": "BOzpSUKGydVI",
        "outputId": "ec5031ff-e3f6-45e9-b88f-e79a2234fe91"
      },
      "source": [
        "print(\"Accuracy: \", accuracy)"
      ],
      "execution_count": null,
      "outputs": [
        {
          "output_type": "stream",
          "text": [
            "Accuracy:  0.9988723993301392\n"
          ],
          "name": "stdout"
        }
      ]
    },
    {
      "cell_type": "code",
      "metadata": {
        "colab": {
          "base_uri": "https://localhost:8080/"
        },
        "id": "wERVqs9VwigJ",
        "outputId": "9789f884-2887-4fe7-c25b-e22d0b7781ba"
      },
      "source": [
        "from sklearn.metrics import confusion_matrix, precision_score, recall_score, f1_score, cohen_kappa_score, classification_report\n",
        "time_start = time.time()\n",
        "y_pred = model.predict(x_test)\n",
        "time_end = time.time()\n",
        "print(\"Testing time: \", time_end - time_start)\n",
        "d = {}\n",
        "y_pred = [int(y1[0]) for y1 in y_pred]\n",
        "#y_pred = [int(y[0]) for y in y_pred]\n",
        "y_test = [int(y1) for y1 in y_test]\n",
        "#y_pred = np.argmax(y_pred, axis=1)\n",
        "#y_test = np.argmax(y_test, axis=1)\n",
        "for y in y_pred:\n",
        "  if y in d:\n",
        "    d[y] = d[y] + 1\n",
        "  else:\n",
        "    d[y] = 1\n",
        "print(d)\n",
        "\n",
        "\n",
        "\n",
        "#print(y_test)\n",
        "print(confusion_matrix(y_test, y_pred))\n",
        "print(classification_report(y_test, y_pred))"
      ],
      "execution_count": null,
      "outputs": [
        {
          "output_type": "stream",
          "text": [
            "Testing time:  24.11117434501648\n",
            "{1: 1166075, 0: 303454}\n",
            "[[ 291707       3]\n",
            " [  11747 1166072]]\n",
            "              precision    recall  f1-score   support\n",
            "\n",
            "           0       0.96      1.00      0.98    291710\n",
            "           1       1.00      0.99      0.99   1177819\n",
            "\n",
            "    accuracy                           0.99   1469529\n",
            "   macro avg       0.98      1.00      0.99   1469529\n",
            "weighted avg       0.99      0.99      0.99   1469529\n",
            "\n"
          ],
          "name": "stdout"
        }
      ]
    },
    {
      "cell_type": "markdown",
      "metadata": {
        "id": "YpYDcshH02ZH"
      },
      "source": [
        "## **5 Classes Classification**"
      ]
    },
    {
      "cell_type": "code",
      "metadata": {
        "id": "L8rDN0UE52Mo"
      },
      "source": [
        "from keras.models import Sequential\n",
        "\n",
        "# Import `Dense` from `keras.layers`\n",
        "from keras.layers import Dense\n",
        "model = Sequential()\n",
        "model.add(Dense(12, input_dim=41, activation='relu'))\n",
        "model.add(Dense(8, activation='relu'))\n",
        "model.add(Dense(5, activation='softmax'))\n",
        "\n",
        "model.compile(loss='categorical_crossentropy', optimizer='adam', metrics=['accuracy'])"
      ],
      "execution_count": null,
      "outputs": []
    },
    {
      "cell_type": "markdown",
      "metadata": {
        "id": "UMkYExZd06Mz"
      },
      "source": [
        "## Training\n",
        "\n"
      ]
    },
    {
      "cell_type": "code",
      "metadata": {
        "colab": {
          "base_uri": "https://localhost:8080/"
        },
        "id": "gnY43v6i56q0",
        "outputId": "17c49104-d310-436f-ae75-8b69ea3d8822"
      },
      "source": [
        "import numpy as np\n",
        "import time\n",
        "\n",
        "\n",
        "y_train = np.asarray(y_train).astype('float32')\n",
        "x_train = np.asarray(x_train).astype('float32')\n",
        "print(y_train[:10])\n",
        "time_start = time.time()\n",
        "model.fit(x_train, y_train, epochs=10, batch_size=10)\n",
        "time_end = time.time()\n",
        "print(\"Training time: \", time_end - time_start)"
      ],
      "execution_count": null,
      "outputs": [
        {
          "output_type": "stream",
          "text": [
            "[[1. 0. 0. 0. 0.]\n",
            " [1. 0. 0. 0. 0.]\n",
            " [1. 0. 0. 0. 0.]\n",
            " [1. 0. 0. 0. 0.]\n",
            " [1. 0. 0. 0. 0.]\n",
            " [1. 0. 0. 0. 0.]\n",
            " [1. 0. 0. 0. 0.]\n",
            " [0. 1. 0. 0. 0.]\n",
            " [1. 0. 0. 0. 0.]\n",
            " [1. 0. 0. 0. 0.]]\n",
            "Epoch 1/10\n",
            "342891/342891 [==============================] - 376s 1ms/step - loss: 3.0519 - accuracy: 0.9952\n",
            "Epoch 2/10\n",
            "342891/342891 [==============================] - 379s 1ms/step - loss: 5.3706 - accuracy: 0.9987\n",
            "Epoch 3/10\n",
            "342891/342891 [==============================] - 380s 1ms/step - loss: 8.7268 - accuracy: 0.9988\n",
            "Epoch 4/10\n",
            "342891/342891 [==============================] - 382s 1ms/step - loss: 35.6947 - accuracy: 0.9988\n",
            "Epoch 5/10\n",
            "342891/342891 [==============================] - 382s 1ms/step - loss: 19.9122 - accuracy: 0.9987\n",
            "Epoch 6/10\n",
            "342891/342891 [==============================] - 377s 1ms/step - loss: 49.2260 - accuracy: 0.9988\n",
            "Epoch 7/10\n",
            "342891/342891 [==============================] - 379s 1ms/step - loss: 3.3860 - accuracy: 0.9987\n",
            "Epoch 8/10\n",
            "342891/342891 [==============================] - 385s 1ms/step - loss: 3.2614 - accuracy: 0.9988\n",
            "Epoch 9/10\n",
            "342891/342891 [==============================] - 394s 1ms/step - loss: 7.8080 - accuracy: 0.9987\n",
            "Epoch 10/10\n",
            "342891/342891 [==============================] - 395s 1ms/step - loss: 20.9189 - accuracy: 0.9988\n",
            "Training time:  3828.982352256775\n"
          ],
          "name": "stdout"
        }
      ]
    },
    {
      "cell_type": "markdown",
      "metadata": {
        "id": "RkrN5fEu1jZK"
      },
      "source": [
        "# Testing"
      ]
    },
    {
      "cell_type": "code",
      "metadata": {
        "id": "hvqi-Ogl5_9o"
      },
      "source": [
        "y_test = np.asarray(y_test).astype('float32')\n",
        "x_test = np.asarray(x_test).astype('float32')"
      ],
      "execution_count": null,
      "outputs": []
    },
    {
      "cell_type": "code",
      "metadata": {
        "colab": {
          "base_uri": "https://localhost:8080/"
        },
        "id": "rLWemSnd6Cln",
        "outputId": "105fb47c-0746-481c-f5c9-89a3f4773517"
      },
      "source": [
        "_, accuracy = model.evaluate(x_test, y_test)"
      ],
      "execution_count": null,
      "outputs": [
        {
          "output_type": "stream",
          "text": [
            "45923/45923 [==============================] - 45s 985us/step - loss: 0.0095 - accuracy: 0.9988\n"
          ],
          "name": "stdout"
        }
      ]
    },
    {
      "cell_type": "code",
      "metadata": {
        "colab": {
          "base_uri": "https://localhost:8080/"
        },
        "id": "5RaFWR_z6Jj7",
        "outputId": "ffa180da-77ea-4d36-eefa-734e564277d9"
      },
      "source": [
        "print(\"Accuracy: \", accuracy)"
      ],
      "execution_count": null,
      "outputs": [
        {
          "output_type": "stream",
          "text": [
            "Accuracy:  0.9988105297088623\n"
          ],
          "name": "stdout"
        }
      ]
    },
    {
      "cell_type": "code",
      "metadata": {
        "colab": {
          "base_uri": "https://localhost:8080/"
        },
        "id": "vPqkKncK6NAV",
        "outputId": "ebed8e93-5dba-468d-9435-f627cc351b7a"
      },
      "source": [
        "from sklearn.metrics import confusion_matrix, precision_score, recall_score, f1_score, cohen_kappa_score, classification_report\n",
        "time_start = time.time()\n",
        "y_pred = model.predict(x_test)\n",
        "time_end = time.time()\n",
        "print(\"Testing time: \", time_end - time_start)\n",
        "d = {}\n",
        "y_pred = np.argmax(y_pred, axis=1)\n",
        "y_test = np.argmax(y_test, axis=1)\n",
        "for y in y_pred:\n",
        "  if y in d:\n",
        "    d[y] = d[y] + 1\n",
        "  else:\n",
        "    d[y] = 1\n",
        "print(d)\n",
        "#y_pred = [int(y[0]) for y in y_pred]\n",
        "#y_pred = [int(y[0]) for y in y_pred]\n",
        "#y_test = [int(y) for y in y_test]\n",
        "\n",
        "\n",
        "print(y_test)\n",
        "print(confusion_matrix(y_test, y_pred))\n",
        "print(classification_report(y_test, y_pred))"
      ],
      "execution_count": null,
      "outputs": [
        {
          "output_type": "stream",
          "text": [
            "Testing time:  27.395376205444336\n",
            "{0: 1164351, 1: 293375, 2: 11803}\n",
            "[0 0 0 ... 0 1 1]\n",
            "[[1164333     904       4       0       0]\n",
            " [     13  291674      23       0       0]\n",
            " [      4     468   11774       0       0]\n",
            " [      1     313       2       0       0]\n",
            " [      0      16       0       0       0]]\n"
          ],
          "name": "stdout"
        },
        {
          "output_type": "stream",
          "text": [
            "/usr/local/lib/python3.7/dist-packages/sklearn/metrics/_classification.py:1272: UndefinedMetricWarning: Precision and F-score are ill-defined and being set to 0.0 in labels with no predicted samples. Use `zero_division` parameter to control this behavior.\n",
            "  _warn_prf(average, modifier, msg_start, len(result))\n"
          ],
          "name": "stderr"
        },
        {
          "output_type": "stream",
          "text": [
            "              precision    recall  f1-score   support\n",
            "\n",
            "           0       1.00      1.00      1.00   1165241\n",
            "           1       0.99      1.00      1.00    291710\n",
            "           2       1.00      0.96      0.98     12246\n",
            "           3       0.00      0.00      0.00       316\n",
            "           4       0.00      0.00      0.00        16\n",
            "\n",
            "    accuracy                           1.00   1469529\n",
            "   macro avg       0.60      0.59      0.60   1469529\n",
            "weighted avg       1.00      1.00      1.00   1469529\n",
            "\n"
          ],
          "name": "stdout"
        }
      ]
    }
  ]
}