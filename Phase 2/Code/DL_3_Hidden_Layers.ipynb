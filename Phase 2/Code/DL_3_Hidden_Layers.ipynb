{
  "nbformat": 4,
  "nbformat_minor": 0,
  "metadata": {
    "colab": {
      "name": "DL_3_Hidden_Layers.ipynb",
      "provenance": [],
      "collapsed_sections": []
    },
    "kernelspec": {
      "name": "python3",
      "display_name": "Python 3"
    },
    "language_info": {
      "name": "python"
    }
  },
  "cells": [
    {
      "cell_type": "markdown",
      "metadata": {
        "id": "Ic8rZmYoy2F8"
      },
      "source": [
        "## **Mount Drive**"
      ]
    },
    {
      "cell_type": "code",
      "metadata": {
        "colab": {
          "base_uri": "https://localhost:8080/"
        },
        "id": "EbtiWGhA6aOc",
        "outputId": "c8cd1931-8278-4d66-a49c-956d59eff40f"
      },
      "source": [
        "from google.colab import drive\n",
        "from google.colab import files\n",
        "print(\"Getting Data from Google drive\")\n",
        "drive.mount('/content/drive/', force_remount =\"True\")\n",
        "#text_en = open(\"/content/drive/MyDrive/BTP/kddcup.data.csv\",\"r\").read()"
      ],
      "execution_count": null,
      "outputs": [
        {
          "output_type": "stream",
          "text": [
            "Getting Data from Google drive\n",
            "Mounted at /content/drive/\n"
          ],
          "name": "stdout"
        }
      ]
    },
    {
      "cell_type": "markdown",
      "metadata": {
        "id": "16AzQWHxyLPs"
      },
      "source": [
        "## **Read Data**"
      ]
    },
    {
      "cell_type": "code",
      "metadata": {
        "colab": {
          "base_uri": "https://localhost:8080/"
        },
        "id": "IGhZOK2F6g4F",
        "outputId": "bca2e4ec-4008-4543-d690-dd40819fef11"
      },
      "source": [
        "import numpy as nm  \n",
        "from sklearn.metrics import confusion_matrix\n",
        "import matplotlib.pyplot as mtp  \n",
        "import pandas as pd  \n",
        "data_set= pd.read_csv('/content/drive/MyDrive/BTP/kddcup.data.csv') \n",
        "#data_Set = data_set.dropna('columns')\n",
        "x= data_set.iloc[:, 0:41].values \n",
        "y= data_set.iloc[:, 41].values  \n",
        "d = {}\n",
        "# Counting data poihnts of each class\n",
        "for val in y:\n",
        "  if val in d:\n",
        "    d[val] = d[val]+1\n",
        "  else:\n",
        "    d[val] = 1\n",
        "\n",
        "print(d)\n",
        "\n",
        "from sklearn.preprocessing import LabelEncoder  \n",
        "label_encoder_x1= LabelEncoder()  \n",
        "label_encoder_x2= LabelEncoder() \n",
        "label_encoder_x3= LabelEncoder()  \n",
        "    \n",
        "x[:, 1]= label_encoder_x1.fit_transform(x[:, 1])  \n",
        "x[:, 2]= label_encoder_x2.fit_transform(x[:, 2])  \n",
        "x[:, 3]= label_encoder_x3.fit_transform(x[:, 3]) \n",
        "\n",
        "attack_class = {'normal.': 'Normal', 'back.': 'DOS', 'smurf.':'DOS', 'neptune.':'DOS', 'pod.': 'DOS', 'teardrop.':'DOS', 'land.': 'DOS',\n",
        "                'multihop.':'R2L', 'ftp_write.': 'R2L', 'guess_passwd.': 'R2L', 'imap.': 'R2L', 'phf.': 'R2L', 'spy.':'R2L', 'warezmaster.':'R2L', 'warezclient.':'R2L',\n",
        "                'rootkit.':'U2R', 'loadmodule.':'U2R', 'buffer_overflow.': 'U2R', 'perl.': 'U2R',\n",
        "                'portsweep.':'PROBE', 'satan.':'PROBE', 'ipsweep.': 'PROBE', 'nmap.':'PROBE'}\n",
        "\n",
        " \n",
        "\n",
        "\n",
        "\n",
        "for i in range(len(y)):\n",
        "  y[i] = attack_class[y[i]]\n",
        "\n",
        "#for i in range(len(y_test)):\n",
        "#  y[i] = attack_class[y_test[i]]\n",
        "\n",
        "\n",
        "for i in range(len(y)):\n",
        "  if y[i] == 'Normal':\n",
        "    y[i] = 0\n",
        "  else:\n",
        "    y[i] = 1\n",
        "\n"
      ],
      "execution_count": null,
      "outputs": [
        {
          "output_type": "stream",
          "text": [
            "{'normal.': 972780, 'buffer_overflow.': 30, 'loadmodule.': 9, 'perl.': 3, 'neptune.': 1072017, 'smurf.': 2807886, 'guess_passwd.': 53, 'pod.': 264, 'teardrop.': 979, 'portsweep.': 10413, 'ipsweep.': 12481, 'land.': 21, 'ftp_write.': 8, 'back.': 2203, 'imap.': 12, 'satan.': 15892, 'phf.': 4, 'nmap.': 2316, 'multihop.': 7, 'warezmaster.': 20, 'warezclient.': 1020, 'spy.': 2, 'rootkit.': 10}\n"
          ],
          "name": "stdout"
        }
      ]
    },
    {
      "cell_type": "markdown",
      "metadata": {
        "id": "vroJkr3GySbr"
      },
      "source": [
        "## **Encode Data and split Data**"
      ]
    },
    {
      "cell_type": "code",
      "metadata": {
        "id": "667Zflsy6kyx"
      },
      "source": [
        "from keras.utils import np_utils\n",
        "from sklearn.model_selection import cross_val_score\n",
        "from sklearn.model_selection import KFold\n",
        "from sklearn.preprocessing import LabelEncoder"
      ],
      "execution_count": null,
      "outputs": []
    },
    {
      "cell_type": "code",
      "metadata": {
        "id": "c-tBon5e6syy"
      },
      "source": [
        "# encode class values as integers\n",
        "encoder = LabelEncoder()\n",
        "encoder.fit(y)\n",
        "encoded_Y = encoder.transform(y)\n",
        "# convert integers to dummy variables (i.e. one hot encoded)\n",
        "dummy_y = np_utils.to_categorical(encoded_Y)\n",
        "\n",
        "from sklearn.model_selection import train_test_split  \n",
        "x_train, x_test, y_train, y_test= train_test_split(x, dummy_y, test_size= 0.30, random_state=0)"
      ],
      "execution_count": null,
      "outputs": []
    },
    {
      "cell_type": "code",
      "metadata": {
        "id": "D-NZISylw1My"
      },
      "source": [
        "from sklearn.model_selection import train_test_split  \n",
        "x_train, x_test, y_train, y_test= train_test_split(x, y, test_size= 0.30, random_state=0)"
      ],
      "execution_count": null,
      "outputs": []
    },
    {
      "cell_type": "markdown",
      "metadata": {
        "id": "KvsKRc7oycPy"
      },
      "source": [
        "## **Binary(2 classes) classification**"
      ]
    },
    {
      "cell_type": "code",
      "metadata": {
        "id": "qhqpB6Tzw4oi"
      },
      "source": [
        "from keras.models import Sequential\n",
        "\n",
        "# Import `Dense` from `keras.layers`\n",
        "from keras.layers import Dense\n",
        "model = Sequential()\n",
        "model.add(Dense(12, input_dim=41, activation='relu'))\n",
        "model.add(Dense(8, activation='relu'))\n",
        "model.add(Dense(8, activation='relu'))\n",
        "model.add(Dense(1, activation='sigmoid'))\n",
        "\n",
        "model.compile(loss='binary_crossentropy', optimizer='adam', metrics=['accuracy'])"
      ],
      "execution_count": null,
      "outputs": []
    },
    {
      "cell_type": "markdown",
      "metadata": {
        "id": "2PpiU_4Cyk7y"
      },
      "source": [
        "# Training"
      ]
    },
    {
      "cell_type": "code",
      "metadata": {
        "colab": {
          "base_uri": "https://localhost:8080/"
        },
        "id": "l0iGDDAqw-RZ",
        "outputId": "051e72ff-ba97-4c4b-df52-d249793eae68"
      },
      "source": [
        "import numpy as np\n",
        "import time\n",
        "#y_train = np.asarray(y_train).astype('float32')\n",
        "#x_train = np.asarray(x_train).astype('float32')\n",
        "time_start = time.time()\n",
        "model.fit(x_train, y_train, epochs=10, batch_size=10)\n",
        "time_end = time.time()\n",
        "print(\"Training time: \", time_end - time_start)"
      ],
      "execution_count": null,
      "outputs": [
        {
          "output_type": "stream",
          "text": [
            "Epoch 1/10\n",
            "342891/342891 [==============================] - 503s 1ms/step - loss: 0.3941 - accuracy: 0.9958\n",
            "Epoch 2/10\n",
            "342891/342891 [==============================] - 510s 1ms/step - loss: 4.0171 - accuracy: 0.9987\n",
            "Epoch 3/10\n",
            "342891/342891 [==============================] - 483s 1ms/step - loss: 0.4750 - accuracy: 0.9989\n",
            "Epoch 4/10\n",
            "342891/342891 [==============================] - 473s 1ms/step - loss: 5.9364 - accuracy: 0.9988\n",
            "Epoch 5/10\n",
            "342891/342891 [==============================] - 477s 1ms/step - loss: 0.0075 - accuracy: 0.9990\n",
            "Epoch 6/10\n",
            "342891/342891 [==============================] - 484s 1ms/step - loss: 0.0067 - accuracy: 0.9990\n",
            "Epoch 7/10\n",
            "342891/342891 [==============================] - 463s 1ms/step - loss: 0.0076 - accuracy: 0.9991\n",
            "Epoch 8/10\n",
            "342891/342891 [==============================] - 460s 1ms/step - loss: 0.0065 - accuracy: 0.9991\n",
            "Epoch 9/10\n",
            "342891/342891 [==============================] - 487s 1ms/step - loss: 0.0063 - accuracy: 0.9991\n",
            "Epoch 10/10\n",
            "342891/342891 [==============================] - 477s 1ms/step - loss: 0.2923 - accuracy: 0.9991\n",
            "Training time:  4817.7089829444885\n"
          ],
          "name": "stdout"
        }
      ]
    },
    {
      "cell_type": "markdown",
      "metadata": {
        "id": "QqNwWS5ryoa-"
      },
      "source": [
        "# Testing"
      ]
    },
    {
      "cell_type": "code",
      "metadata": {
        "id": "8W19R6QuxCqT"
      },
      "source": [
        "y_test = np.asarray(y_test).astype('float32')\n",
        "x_test = np.asarray(x_test).astype('float32')"
      ],
      "execution_count": null,
      "outputs": []
    },
    {
      "cell_type": "code",
      "metadata": {
        "colab": {
          "base_uri": "https://localhost:8080/"
        },
        "id": "LNR-Lgzzyino",
        "outputId": "e6537179-d1d9-4064-df16-ae23bc94b7ee"
      },
      "source": [
        "_, accuracy = model.evaluate(x_test, y_test)"
      ],
      "execution_count": null,
      "outputs": [
        {
          "output_type": "stream",
          "text": [
            "45923/45923 [==============================] - 49s 1ms/step - loss: 0.0054 - accuracy: 0.9992\n"
          ],
          "name": "stdout"
        }
      ]
    },
    {
      "cell_type": "code",
      "metadata": {
        "colab": {
          "base_uri": "https://localhost:8080/"
        },
        "id": "KENPtnz0yjPT",
        "outputId": "44dc5f07-6c0c-48b6-f4bf-f109cf55fdac"
      },
      "source": [
        "print(\"Accuracy: \", accuracy)"
      ],
      "execution_count": null,
      "outputs": [
        {
          "output_type": "stream",
          "text": [
            "Accuracy:  0.9992106556892395\n"
          ],
          "name": "stdout"
        }
      ]
    },
    {
      "cell_type": "code",
      "metadata": {
        "colab": {
          "base_uri": "https://localhost:8080/"
        },
        "id": "FbfFS3P4xDYD",
        "outputId": "0a2cdf29-2c4b-4e9f-a754-8040d39b9057"
      },
      "source": [
        "from sklearn.metrics import confusion_matrix, precision_score, recall_score, f1_score, cohen_kappa_score, classification_report\n",
        "time_start = time.time()\n",
        "y_pred = model.predict(x_test)\n",
        "time_end = time.time()\n",
        "print(\"Testing time: \", time_end - time_start)\n",
        "d = {}\n",
        "#y_pred = np.argmax(y_pred, axis=1)\n",
        "y_pred = [int(y[0]) for y in y_pred]\n",
        "#y_pred = [int(y[0]) for y in y_pred]\n",
        "y_test = [int(y) for y in y_test]\n",
        "#y_test = np.argmax(y_test, axis=1)\n",
        "for y in y_pred:\n",
        "  if y in d:\n",
        "    d[y] = d[y] + 1\n",
        "  else:\n",
        "    d[y] = 1\n",
        "print(d)\n",
        "\n",
        "\n",
        "\n",
        "#print(y_test)\n",
        "print(confusion_matrix(y_test, y_pred))\n",
        "print(classification_report(y_test, y_pred))"
      ],
      "execution_count": null,
      "outputs": [
        {
          "output_type": "stream",
          "text": [
            "Testing time:  33.28415894508362\n",
            "{1: 1139537, 0: 329992}\n",
            "[[ 291705       5]\n",
            " [  38287 1139532]]\n",
            "              precision    recall  f1-score   support\n",
            "\n",
            "           0       0.88      1.00      0.94    291710\n",
            "           1       1.00      0.97      0.98   1177819\n",
            "\n",
            "    accuracy                           0.97   1469529\n",
            "   macro avg       0.94      0.98      0.96   1469529\n",
            "weighted avg       0.98      0.97      0.97   1469529\n",
            "\n"
          ],
          "name": "stdout"
        }
      ]
    },
    {
      "cell_type": "markdown",
      "metadata": {
        "id": "vR5cMjfuysDX"
      },
      "source": [
        "## **5 Classes Classification**"
      ]
    },
    {
      "cell_type": "code",
      "metadata": {
        "id": "1z3pileq6weq"
      },
      "source": [
        "from keras.models import Sequential\n",
        "\n",
        "# Import `Dense` from `keras.layers`\n",
        "from keras.layers import Dense\n",
        "model = Sequential()\n",
        "model.add(Dense(12, input_dim=41, activation='relu'))\n",
        "model.add(Dense(8, activation='relu'))\n",
        "model.add(Dense(8, activation = 'relu'))\n",
        "model.add(Dense(5, activation='softmax'))\n",
        "\n",
        "model.compile(loss='categorical_crossentropy', optimizer='adam', metrics=['accuracy'])"
      ],
      "execution_count": null,
      "outputs": []
    },
    {
      "cell_type": "markdown",
      "metadata": {
        "id": "SbBsKTxtywCc"
      },
      "source": [
        "# Training"
      ]
    },
    {
      "cell_type": "code",
      "metadata": {
        "colab": {
          "base_uri": "https://localhost:8080/"
        },
        "id": "a5XiZ6VX659E",
        "outputId": "154dbdb1-f831-4249-edf9-47b97d25bd9a"
      },
      "source": [
        "import numpy as np\n",
        "import time\n",
        "\n",
        "\n",
        "y_train = np.asarray(y_train).astype('float32')\n",
        "x_train = np.asarray(x_train).astype('float32')\n",
        "print(y_train[:10])\n",
        "time_start = time.time()\n",
        "model.fit(x_train, y_train, epochs=10, batch_size=10)\n",
        "time_end = time.time()\n",
        "print(\"Training time: \", time_end - time_start)"
      ],
      "execution_count": null,
      "outputs": [
        {
          "output_type": "stream",
          "text": [
            "[[1. 0. 0. 0. 0.]\n",
            " [1. 0. 0. 0. 0.]\n",
            " [1. 0. 0. 0. 0.]\n",
            " [1. 0. 0. 0. 0.]\n",
            " [1. 0. 0. 0. 0.]\n",
            " [1. 0. 0. 0. 0.]\n",
            " [1. 0. 0. 0. 0.]\n",
            " [0. 1. 0. 0. 0.]\n",
            " [1. 0. 0. 0. 0.]\n",
            " [1. 0. 0. 0. 0.]]\n",
            "Epoch 1/10\n",
            "342891/342891 [==============================] - 431s 1ms/step - loss: 7.3631 - accuracy: 0.9913\n",
            "Epoch 2/10\n",
            "342891/342891 [==============================] - 431s 1ms/step - loss: 0.4861 - accuracy: 0.9986\n",
            "Epoch 3/10\n",
            "342891/342891 [==============================] - 425s 1ms/step - loss: 25.6080 - accuracy: 0.9986\n",
            "Epoch 4/10\n",
            "342891/342891 [==============================] - 424s 1ms/step - loss: 0.9041 - accuracy: 0.9985\n",
            "Epoch 5/10\n",
            "342891/342891 [==============================] - 427s 1ms/step - loss: 0.0131 - accuracy: 0.9987\n",
            "Epoch 6/10\n",
            "342891/342891 [==============================] - 430s 1ms/step - loss: 0.0140 - accuracy: 0.9987\n",
            "Epoch 7/10\n",
            "342891/342891 [==============================] - 425s 1ms/step - loss: 0.0124 - accuracy: 0.9987\n",
            "Epoch 8/10\n",
            "342891/342891 [==============================] - 426s 1ms/step - loss: 0.0119 - accuracy: 0.9987\n",
            "Epoch 9/10\n",
            "342891/342891 [==============================] - 435s 1ms/step - loss: 0.0106 - accuracy: 0.9988\n",
            "Epoch 10/10\n",
            "342891/342891 [==============================] - 436s 1ms/step - loss: 0.0127 - accuracy: 0.9988\n",
            "Training time:  4291.271785974503\n"
          ],
          "name": "stdout"
        }
      ]
    },
    {
      "cell_type": "markdown",
      "metadata": {
        "id": "Iqm0gz5YyzJH"
      },
      "source": [
        "# Testing"
      ]
    },
    {
      "cell_type": "code",
      "metadata": {
        "id": "gvo8urI769BS"
      },
      "source": [
        "y_test = np.asarray(y_test).astype('float32')\n",
        "x_test = np.asarray(x_test).astype('float32')"
      ],
      "execution_count": null,
      "outputs": []
    },
    {
      "cell_type": "code",
      "metadata": {
        "colab": {
          "base_uri": "https://localhost:8080/"
        },
        "id": "ggzd0U236_2_",
        "outputId": "0007f6e7-2777-42a9-908d-806392a360b6"
      },
      "source": [
        "_, accuracy = model.evaluate(x_test, y_test)"
      ],
      "execution_count": null,
      "outputs": [
        {
          "output_type": "stream",
          "text": [
            "45923/45923 [==============================] - 47s 1ms/step - loss: 0.0089 - accuracy: 0.9989\n"
          ],
          "name": "stdout"
        }
      ]
    },
    {
      "cell_type": "code",
      "metadata": {
        "colab": {
          "base_uri": "https://localhost:8080/"
        },
        "id": "jk8y9JZ77Dfr",
        "outputId": "928ffa16-0d69-405f-9b9c-916933703c01"
      },
      "source": [
        "print(\"Accuracy: \", accuracy)"
      ],
      "execution_count": null,
      "outputs": [
        {
          "output_type": "stream",
          "text": [
            "Accuracy:  0.9988581538200378\n"
          ],
          "name": "stdout"
        }
      ]
    },
    {
      "cell_type": "code",
      "metadata": {
        "colab": {
          "base_uri": "https://localhost:8080/"
        },
        "id": "bxWZ1ngd7GgS",
        "outputId": "d79d601e-9e97-465d-ac4f-0a1c3d23f775"
      },
      "source": [
        "from sklearn.metrics import confusion_matrix, precision_score, recall_score, f1_score, cohen_kappa_score, classification_report\n",
        "time_start = time.time()\n",
        "y_pred = model.predict(x_test)\n",
        "time_end = time.time()\n",
        "print(\"Testing time: \", time_end - time_start)\n",
        "d = {}\n",
        "y_pred = np.argmax(y_pred, axis=1)\n",
        "y_test = np.argmax(y_test, axis=1)\n",
        "for y in y_pred:\n",
        "  if y in d:\n",
        "    d[y] = d[y] + 1\n",
        "  else:\n",
        "    d[y] = 1\n",
        "print(d)\n",
        "#y_pred = [int(y[0]) for y in y_pred]\n",
        "#y_pred = [int(y[0]) for y in y_pred]\n",
        "#y_test = [int(y) for y in y_test]\n",
        "\n",
        "\n",
        "print(y_test)\n",
        "print(confusion_matrix(y_test, y_pred))\n",
        "print(classification_report(y_test, y_pred))"
      ],
      "execution_count": null,
      "outputs": [
        {
          "output_type": "stream",
          "text": [
            "Testing time:  27.8272545337677\n",
            "{0: 1164515, 1: 293191, 2: 11823}\n",
            "[0 0 0 ... 0 1 1]\n",
            "[[1164483     755       3       0       0]\n",
            " [     29  291615      66       0       0]\n",
            " [      2     491   11753       0       0]\n",
            " [      1     314       1       0       0]\n",
            " [      0      16       0       0       0]]\n"
          ],
          "name": "stdout"
        },
        {
          "output_type": "stream",
          "text": [
            "/usr/local/lib/python3.7/dist-packages/sklearn/metrics/_classification.py:1272: UndefinedMetricWarning: Precision and F-score are ill-defined and being set to 0.0 in labels with no predicted samples. Use `zero_division` parameter to control this behavior.\n",
            "  _warn_prf(average, modifier, msg_start, len(result))\n"
          ],
          "name": "stderr"
        },
        {
          "output_type": "stream",
          "text": [
            "              precision    recall  f1-score   support\n",
            "\n",
            "           0       1.00      1.00      1.00   1165241\n",
            "           1       0.99      1.00      1.00    291710\n",
            "           2       0.99      0.96      0.98     12246\n",
            "           3       0.00      0.00      0.00       316\n",
            "           4       0.00      0.00      0.00        16\n",
            "\n",
            "    accuracy                           1.00   1469529\n",
            "   macro avg       0.60      0.59      0.59   1469529\n",
            "weighted avg       1.00      1.00      1.00   1469529\n",
            "\n"
          ],
          "name": "stdout"
        }
      ]
    }
  ]
}