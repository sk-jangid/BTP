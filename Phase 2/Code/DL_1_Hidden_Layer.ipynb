{
  "nbformat": 4,
  "nbformat_minor": 0,
  "metadata": {
    "colab": {
      "name": "DL_1_Hidden_Layer.ipynb",
      "provenance": [],
      "collapsed_sections": []
    },
    "kernelspec": {
      "name": "python3",
      "display_name": "Python 3"
    },
    "language_info": {
      "name": "python"
    }
  },
  "cells": [
    {
      "cell_type": "markdown",
      "metadata": {
        "id": "9dTWzKdbzvV0"
      },
      "source": [
        "## **Mount Drive**"
      ]
    },
    {
      "cell_type": "code",
      "metadata": {
        "colab": {
          "base_uri": "https://localhost:8080/"
        },
        "id": "g4sC1QgpHK-x",
        "outputId": "4fc01855-63e8-455d-f821-000970315a95"
      },
      "source": [
        "from google.colab import drive\n",
        "from google.colab import files\n",
        "print(\"Getting Data from Google drive\")\n",
        "drive.mount('/content/drive/', force_remount =\"True\")\n",
        "#text_en = open(\"/content/drive/MyDrive/BTP/kddcup.data.csv\",\"r\").read()\n"
      ],
      "execution_count": null,
      "outputs": [
        {
          "output_type": "stream",
          "text": [
            "Getting Data from Google drive\n",
            "Mounted at /content/drive/\n"
          ],
          "name": "stdout"
        }
      ]
    },
    {
      "cell_type": "markdown",
      "metadata": {
        "id": "7ylmjhhXz0RQ"
      },
      "source": [
        "## **Read Data**"
      ]
    },
    {
      "cell_type": "code",
      "metadata": {
        "colab": {
          "base_uri": "https://localhost:8080/"
        },
        "id": "YOfdnMOxHR9H",
        "outputId": "d9ea1904-fd71-4619-c380-2b94cdb9a5e9"
      },
      "source": [
        "import numpy as nm  \n",
        "from sklearn.metrics import confusion_matrix\n",
        "import matplotlib.pyplot as mtp  \n",
        "import pandas as pd  \n",
        "data_set= pd.read_csv('/content/drive/MyDrive/BTP/kddcup.data.csv') \n",
        "#data_Set = data_set.dropna('columns')\n",
        "x= data_set.iloc[:, 0:41].values \n",
        "y= data_set.iloc[:, 41].values  \n",
        "d = {}\n",
        "# Counting data poihnts of each class\n",
        "for val in y:\n",
        "  if val in d:\n",
        "    d[val] = d[val]+1\n",
        "  else:\n",
        "    d[val] = 1\n",
        "\n",
        "print(d)\n",
        "\n",
        "from sklearn.preprocessing import LabelEncoder  \n",
        "label_encoder_x1= LabelEncoder()  \n",
        "label_encoder_x2= LabelEncoder() \n",
        "label_encoder_x3= LabelEncoder()  \n",
        "    \n",
        "x[:, 1]= label_encoder_x1.fit_transform(x[:, 1])  \n",
        "x[:, 2]= label_encoder_x2.fit_transform(x[:, 2])  \n",
        "x[:, 3]= label_encoder_x3.fit_transform(x[:, 3]) \n",
        "\n",
        "attack_class = {'normal.': 'Normal', 'back.': 'DOS', 'smurf.':'DOS', 'neptune.':'DOS', 'pod.': 'DOS', 'teardrop.':'DOS', 'land.': 'DOS',\n",
        "                'multihop.':'R2L', 'ftp_write.': 'R2L', 'guess_passwd.': 'R2L', 'imap.': 'R2L', 'phf.': 'R2L', 'spy.':'R2L', 'warezmaster.':'R2L', 'warezclient.':'R2L',\n",
        "                'rootkit.':'U2R', 'loadmodule.':'U2R', 'buffer_overflow.': 'U2R', 'perl.': 'U2R',\n",
        "                'portsweep.':'PROBE', 'satan.':'PROBE', 'ipsweep.': 'PROBE', 'nmap.':'PROBE'}\n",
        "\n",
        " \n",
        "\n",
        "\n",
        "\n",
        "for i in range(len(y)):\n",
        "  y[i] = attack_class[y[i]]\n",
        "\n",
        "#for i in range(len(y_test)):\n",
        "#  y[i] = attack_class[y_test[i]]\n",
        "\n",
        "\n",
        "for i in range(len(y)):\n",
        "  if y[i] == 'Normal':\n",
        "    y[i] = 0\n",
        "  else:\n",
        "    y[i] = 1\n",
        "\n"
      ],
      "execution_count": null,
      "outputs": [
        {
          "output_type": "stream",
          "text": [
            "{'normal.': 972780, 'buffer_overflow.': 30, 'loadmodule.': 9, 'perl.': 3, 'neptune.': 1072017, 'smurf.': 2807886, 'guess_passwd.': 53, 'pod.': 264, 'teardrop.': 979, 'portsweep.': 10413, 'ipsweep.': 12481, 'land.': 21, 'ftp_write.': 8, 'back.': 2203, 'imap.': 12, 'satan.': 15892, 'phf.': 4, 'nmap.': 2316, 'multihop.': 7, 'warezmaster.': 20, 'warezclient.': 1020, 'spy.': 2, 'rootkit.': 10}\n"
          ],
          "name": "stdout"
        }
      ]
    },
    {
      "cell_type": "markdown",
      "metadata": {
        "id": "NPZv3AGPz-Ki"
      },
      "source": [
        "## **Encode and split data**"
      ]
    },
    {
      "cell_type": "code",
      "metadata": {
        "id": "KHEFqxIwTbpL"
      },
      "source": [
        "from keras.utils import np_utils\n",
        "from sklearn.preprocessing import LabelEncoder"
      ],
      "execution_count": null,
      "outputs": []
    },
    {
      "cell_type": "code",
      "metadata": {
        "id": "23FlyA4ASzB4"
      },
      "source": [
        "# encode class values as integers\n",
        "encoder = LabelEncoder()\n",
        "encoder.fit(y)\n",
        "encoded_Y = encoder.transform(y)\n",
        "# convert integers to dummy variables (i.e. one hot encoded)\n",
        "dummy_y = np_utils.to_categorical(encoded_Y)\n",
        "\n",
        "from sklearn.model_selection import train_test_split  \n",
        "x_train, x_test, y_train, y_test= train_test_split(x, dummy_y, test_size= 0.30, random_state=0)"
      ],
      "execution_count": null,
      "outputs": []
    },
    {
      "cell_type": "code",
      "metadata": {
        "id": "Z9ekQqtkuIEf"
      },
      "source": [
        "from sklearn.model_selection import train_test_split  \n",
        "x_train, x_test, y_train, y_test= train_test_split(x, y, test_size= 0.30, random_state=0)"
      ],
      "execution_count": null,
      "outputs": []
    },
    {
      "cell_type": "markdown",
      "metadata": {
        "id": "6bxCgHAm0E-t"
      },
      "source": [
        "## **Binary (2 classes) classification**"
      ]
    },
    {
      "cell_type": "code",
      "metadata": {
        "id": "_2AIinuiw7zj"
      },
      "source": [
        "from keras.models import Sequential\n",
        "\n",
        "# Import `Dense` from `keras.layers`\n",
        "from keras.layers import Dense\n",
        "model = Sequential()\n",
        "model.add(Dense(12, input_dim=41, activation='relu'))\n",
        "model.add(Dense(1, activation='sigmoid'))\n",
        "\n",
        "model.compile(loss='binary_crossentropy', optimizer='adam', metrics=['accuracy'])"
      ],
      "execution_count": null,
      "outputs": []
    },
    {
      "cell_type": "markdown",
      "metadata": {
        "id": "nROqJqph0Kzk"
      },
      "source": [
        "# Training"
      ]
    },
    {
      "cell_type": "code",
      "metadata": {
        "colab": {
          "base_uri": "https://localhost:8080/"
        },
        "id": "YeWluKy4xgE9",
        "outputId": "fc60cb26-8028-4490-b2fb-2a63a9f83094"
      },
      "source": [
        "import numpy as np\n",
        "import time\n",
        "#y_train = np.asarray(y_train).astype('float32')\n",
        "#x_train = np.asarray(x_train).astype('float32')\n",
        "time_start = time.time()\n",
        "model.fit(x_train, y_train, epochs=10, batch_size=10)\n",
        "time_end = time.time()\n",
        "print(\"Training time: \", time_end - time_start)"
      ],
      "execution_count": null,
      "outputs": [
        {
          "output_type": "stream",
          "text": [
            "Epoch 1/10\n",
            "342891/342891 [==============================] - 452s 1ms/step - loss: 11.1950 - accuracy: 0.9959\n",
            "Epoch 2/10\n",
            "342891/342891 [==============================] - 456s 1ms/step - loss: 0.4059 - accuracy: 0.9983\n",
            "Epoch 3/10\n",
            "342891/342891 [==============================] - 453s 1ms/step - loss: 1.5767 - accuracy: 0.9981\n",
            "Epoch 4/10\n",
            "342891/342891 [==============================] - 456s 1ms/step - loss: 1.1928 - accuracy: 0.9986\n",
            "Epoch 5/10\n",
            "342891/342891 [==============================] - 453s 1ms/step - loss: 0.0140 - accuracy: 0.9989\n",
            "Epoch 6/10\n",
            "342891/342891 [==============================] - 456s 1ms/step - loss: 0.2275 - accuracy: 0.9988\n",
            "Epoch 7/10\n",
            "342891/342891 [==============================] - 450s 1ms/step - loss: 0.4383 - accuracy: 0.9986\n",
            "Epoch 8/10\n",
            "342891/342891 [==============================] - 447s 1ms/step - loss: 0.1550 - accuracy: 0.9988\n",
            "Epoch 9/10\n",
            "342891/342891 [==============================] - 453s 1ms/step - loss: 0.1010 - accuracy: 0.9988\n",
            "Epoch 10/10\n",
            "342891/342891 [==============================] - 448s 1ms/step - loss: 3.2869 - accuracy: 0.9982\n",
            "Training time:  4524.513454437256\n"
          ],
          "name": "stdout"
        }
      ]
    },
    {
      "cell_type": "markdown",
      "metadata": {
        "id": "sgcyteGP0NRq"
      },
      "source": [
        "# Testing"
      ]
    },
    {
      "cell_type": "code",
      "metadata": {
        "id": "Bv7x9LrnusFR"
      },
      "source": [
        "y_test = np.asarray(y_test).astype('float32')\n",
        "x_test = np.asarray(x_test).astype('float32')"
      ],
      "execution_count": null,
      "outputs": []
    },
    {
      "cell_type": "code",
      "metadata": {
        "colab": {
          "base_uri": "https://localhost:8080/"
        },
        "id": "wMAEvrjMyO6C",
        "outputId": "fb73a603-bf96-4fcd-bb39-5b1aa24e1804"
      },
      "source": [
        "_, accuracy = model.evaluate(x_test, y_test)"
      ],
      "execution_count": null,
      "outputs": [
        {
          "output_type": "stream",
          "text": [
            "45923/45923 [==============================] - 48s 1ms/step - loss: 0.0993 - accuracy: 0.9991\n"
          ],
          "name": "stdout"
        }
      ]
    },
    {
      "cell_type": "code",
      "metadata": {
        "colab": {
          "base_uri": "https://localhost:8080/"
        },
        "id": "uooAwSLqyQZT",
        "outputId": "ef0ecf15-74f4-4bbf-ea81-93f4b7d6f48e"
      },
      "source": [
        "print(\"Accuracy: \", accuracy)"
      ],
      "execution_count": null,
      "outputs": [
        {
          "output_type": "stream",
          "text": [
            "Accuracy:  0.999095618724823\n"
          ],
          "name": "stdout"
        }
      ]
    },
    {
      "cell_type": "code",
      "metadata": {
        "colab": {
          "base_uri": "https://localhost:8080/"
        },
        "id": "EXvVuHh2vj5I",
        "outputId": "6c613758-d191-4bcb-9eb1-ba95075d4a2d"
      },
      "source": [
        "from sklearn.metrics import confusion_matrix, precision_score, recall_score, f1_score, cohen_kappa_score, classification_report\n",
        "time_start = time.time()\n",
        "y_pred = model.predict(x_test)\n",
        "time_end = time.time()\n",
        "print(\"Testing time: \", time_end - time_start)\n",
        "d = {}\n",
        "y_pred = [int(y[0]) for y in y_pred]\n",
        "y_test = [int(y) for y in y_test]\n",
        "\n",
        "\n",
        "#print(y_test)\n",
        "print(confusion_matrix(y_test, y_pred))\n",
        "print(classification_report(y_test, y_pred))"
      ],
      "execution_count": null,
      "outputs": [
        {
          "output_type": "stream",
          "text": [
            "Testing time:  27.004562616348267\n",
            "{1: 1174083, 0: 295446}\n",
            "[[ 291696      14]\n",
            " [   3750 1174069]]\n",
            "              precision    recall  f1-score   support\n",
            "\n",
            "           0       0.99      1.00      0.99    291710\n",
            "           1       1.00      1.00      1.00   1177819\n",
            "\n",
            "    accuracy                           1.00   1469529\n",
            "   macro avg       0.99      1.00      1.00   1469529\n",
            "weighted avg       1.00      1.00      1.00   1469529\n",
            "\n"
          ],
          "name": "stdout"
        }
      ]
    },
    {
      "cell_type": "markdown",
      "metadata": {
        "id": "iON5K3f10P4n"
      },
      "source": [
        "## **5 Classes Classification**"
      ]
    },
    {
      "cell_type": "code",
      "metadata": {
        "id": "bBLB8reZKDb1"
      },
      "source": [
        "from keras.models import Sequential\n",
        "\n",
        "# Import `Dense` from `keras.layers`\n",
        "from keras.layers import Dense\n",
        "model = Sequential()\n",
        "model.add(Dense(12, input_dim=41, activation='relu'))\n",
        "model.add(Dense(5, activation='softmax'))\n",
        "\n",
        "model.compile(loss='categorical_crossentropy', optimizer='adam', metrics=['accuracy'])"
      ],
      "execution_count": null,
      "outputs": []
    },
    {
      "cell_type": "markdown",
      "metadata": {
        "id": "sk6Fiat60T5a"
      },
      "source": [
        "# Training"
      ]
    },
    {
      "cell_type": "code",
      "metadata": {
        "colab": {
          "base_uri": "https://localhost:8080/"
        },
        "id": "KRfFIniOKOhp",
        "outputId": "427ea4ff-eadb-4177-d745-7169ce56d1cc"
      },
      "source": [
        "import numpy as np\n",
        "import time\n",
        "\n",
        "\n",
        "y_train = np.asarray(y_train).astype('float32')\n",
        "x_train = np.asarray(x_train).astype('float32')\n",
        "print(y_train[:10])\n",
        "time_start = time.time()\n",
        "model.fit(x_train, y_train, epochs=10, batch_size=10)\n",
        "time_end = time.time()\n",
        "print(\"Training time: \", time_end - time_start)"
      ],
      "execution_count": null,
      "outputs": [
        {
          "output_type": "stream",
          "text": [
            "[[1. 0. 0. 0. 0.]\n",
            " [1. 0. 0. 0. 0.]\n",
            " [1. 0. 0. 0. 0.]\n",
            " [1. 0. 0. 0. 0.]\n",
            " [1. 0. 0. 0. 0.]\n",
            " [1. 0. 0. 0. 0.]\n",
            " [1. 0. 0. 0. 0.]\n",
            " [0. 1. 0. 0. 0.]\n",
            " [1. 0. 0. 0. 0.]\n",
            " [1. 0. 0. 0. 0.]]\n",
            "Epoch 1/10\n",
            "342891/342891 [==============================] - 409s 1ms/step - loss: 38.2988 - accuracy: 0.9934\n",
            "Epoch 2/10\n",
            "342891/342891 [==============================] - 407s 1ms/step - loss: 0.6531 - accuracy: 0.9984\n",
            "Epoch 3/10\n",
            "342891/342891 [==============================] - 412s 1ms/step - loss: 0.0316 - accuracy: 0.9988\n",
            "Epoch 4/10\n",
            "342891/342891 [==============================] - 408s 1ms/step - loss: 0.1526 - accuracy: 0.9990\n",
            "Epoch 5/10\n",
            "342891/342891 [==============================] - 402s 1ms/step - loss: 0.5941 - accuracy: 0.9989\n",
            "Epoch 6/10\n",
            "342891/342891 [==============================] - 405s 1ms/step - loss: 0.0150 - accuracy: 0.9990\n",
            "Epoch 7/10\n",
            "342891/342891 [==============================] - 405s 1ms/step - loss: 0.0567 - accuracy: 0.9990\n",
            "Epoch 8/10\n",
            "342891/342891 [==============================] - 401s 1ms/step - loss: 0.1091 - accuracy: 0.9990\n",
            "Epoch 9/10\n",
            "342891/342891 [==============================] - 398s 1ms/step - loss: 0.5439 - accuracy: 0.9990\n",
            "Epoch 10/10\n",
            "342891/342891 [==============================] - 398s 1ms/step - loss: 0.2278 - accuracy: 0.9990\n",
            "Training time:  4043.4352746009827\n"
          ],
          "name": "stdout"
        }
      ]
    },
    {
      "cell_type": "markdown",
      "metadata": {
        "id": "CA98E4Eq0Wgc"
      },
      "source": [
        "# Testing"
      ]
    },
    {
      "cell_type": "code",
      "metadata": {
        "id": "ThVLyF9aDYCk"
      },
      "source": [
        "y_test = np.asarray(y_test).astype('float32')\n",
        "x_test = np.asarray(x_test).astype('float32')"
      ],
      "execution_count": null,
      "outputs": []
    },
    {
      "cell_type": "code",
      "metadata": {
        "colab": {
          "base_uri": "https://localhost:8080/"
        },
        "id": "J2suAa6R0-6u",
        "outputId": "02d638a9-b23c-49c6-8cb2-80c9d076067c"
      },
      "source": [
        "#import numpy as np\n",
        "_, accuracy = model.evaluate(x_test, y_test)"
      ],
      "execution_count": null,
      "outputs": [
        {
          "output_type": "stream",
          "text": [
            "45923/45923 [==============================] - 46s 1ms/step - loss: 0.0071 - accuracy: 0.9991\n"
          ],
          "name": "stdout"
        }
      ]
    },
    {
      "cell_type": "code",
      "metadata": {
        "colab": {
          "base_uri": "https://localhost:8080/"
        },
        "id": "q1P8ge9C1ig8",
        "outputId": "f0b1a822-d0fa-4a5b-c1ee-b48dee760b56"
      },
      "source": [
        "print(\"Accuracy: \", accuracy)"
      ],
      "execution_count": null,
      "outputs": [
        {
          "output_type": "stream",
          "text": [
            "Accuracy:  0.999100387096405\n"
          ],
          "name": "stdout"
        }
      ]
    },
    {
      "cell_type": "code",
      "metadata": {
        "colab": {
          "base_uri": "https://localhost:8080/"
        },
        "id": "aKRYrko5_vhl",
        "outputId": "e31d66bb-92ce-4c3d-9a00-14e27a247cdd"
      },
      "source": [
        "from sklearn.metrics import confusion_matrix, precision_score, recall_score, f1_score, cohen_kappa_score, classification_report\n",
        "time_start = time.time()\n",
        "y_pred = model.predict(x_test)\n",
        "time_end = time.time()\n",
        "print(\"Testing time: \", time_end - time_start)\n",
        "d = {}\n",
        "y_pred = np.argmax(y_pred, axis=1)\n",
        "y_test = np.argmax(y_test, axis=1)\n",
        "for y in y_pred:\n",
        "  if y in d:\n",
        "    d[y] = d[y] + 1\n",
        "  else:\n",
        "    d[y] = 1\n",
        "print(d)\n",
        "#y_pred = [int(y[0]) for y in y_pred]\n",
        "#y_pred = [int(y[0]) for y in y_pred]\n",
        "#y_test = [int(y) for y in y_test]\n",
        "\n",
        "\n",
        "print(y_test)\n",
        "print(confusion_matrix(y_test, y_pred))\n",
        "print(classification_report(y_test, y_pred))"
      ],
      "execution_count": null,
      "outputs": [
        {
          "output_type": "stream",
          "text": [
            "{0: 1164447, 1: 292898, 2: 12163, 3: 21}\n",
            "[0 0 0 ... 0 1 1]\n",
            "[[1164437     790      14       0       0]\n",
            " [      7  291652      51       0       0]\n",
            " [      3     146   12097       0       0]\n",
            " [      0     294       1      21       0]\n",
            " [      0      16       0       0       0]]\n"
          ],
          "name": "stdout"
        },
        {
          "output_type": "stream",
          "text": [
            "/usr/local/lib/python3.7/dist-packages/sklearn/metrics/_classification.py:1272: UndefinedMetricWarning: Precision and F-score are ill-defined and being set to 0.0 in labels with no predicted samples. Use `zero_division` parameter to control this behavior.\n",
            "  _warn_prf(average, modifier, msg_start, len(result))\n"
          ],
          "name": "stderr"
        },
        {
          "output_type": "stream",
          "text": [
            "              precision    recall  f1-score   support\n",
            "\n",
            "           0       1.00      1.00      1.00   1165241\n",
            "           1       1.00      1.00      1.00    291710\n",
            "           2       0.99      0.99      0.99     12246\n",
            "           3       1.00      0.07      0.12       316\n",
            "           4       0.00      0.00      0.00        16\n",
            "\n",
            "    accuracy                           1.00   1469529\n",
            "   macro avg       0.80      0.61      0.62   1469529\n",
            "weighted avg       1.00      1.00      1.00   1469529\n",
            "\n"
          ],
          "name": "stdout"
        }
      ]
    },
    {
      "cell_type": "code",
      "metadata": {
        "id": "pretvig0HioM"
      },
      "source": [
        "#pip3 install --upgrade tensorflow\n",
        "import tensorflow as tf\n"
      ],
      "execution_count": null,
      "outputs": []
    }
  ]
}