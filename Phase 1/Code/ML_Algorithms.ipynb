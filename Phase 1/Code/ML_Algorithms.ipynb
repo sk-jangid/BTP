{
  "nbformat": 4,
  "nbformat_minor": 0,
  "metadata": {
    "colab": {
      "name": "ML_Algorithms.ipynb",
      "provenance": [],
      "collapsed_sections": []
    },
    "kernelspec": {
      "display_name": "Python 3",
      "name": "python3"
    }
  },
  "cells": [
    {
      "cell_type": "markdown",
      "metadata": {
        "id": "H-ofBECA1EeV"
      },
      "source": [
        "Mount Drive"
      ]
    },
    {
      "cell_type": "code",
      "metadata": {
        "colab": {
          "base_uri": "https://localhost:8080/"
        },
        "id": "nJtfpOcCQKMo",
        "outputId": "bfee63c2-db50-4c89-b884-c1fdac1a2841"
      },
      "source": [
        "from google.colab import drive\n",
        "from google.colab import files\n",
        "print(\"Getting Data from Google drive\")\n",
        "drive.mount('/content/drive/', force_remount =\"True\")\n",
        "#text_en = open(\"/content/drive/MyDrive/BTP/kddcup.data.csv\",\"r\").read()\n"
      ],
      "execution_count": null,
      "outputs": [
        {
          "output_type": "stream",
          "text": [
            "Getting Data from Google drive\n",
            "Mounted at /content/drive/\n"
          ],
          "name": "stdout"
        }
      ]
    },
    {
      "cell_type": "markdown",
      "metadata": {
        "id": "aw4HcV471IPR"
      },
      "source": [
        "Get *data* and Preprocessing"
      ]
    },
    {
      "cell_type": "code",
      "metadata": {
        "colab": {
          "base_uri": "https://localhost:8080/"
        },
        "id": "ntJ_Ffkh3-wv",
        "outputId": "6f62b4ef-ca97-4415-99cc-b7cf7cc33246"
      },
      "source": [
        "import numpy as nm  \n",
        "from sklearn.metrics import confusion_matrix\n",
        "import matplotlib.pyplot as mtp  \n",
        "import pandas as pd  \n",
        "data_set= pd.read_csv('/content/drive/MyDrive/BTP/kddcup.data.csv') \n",
        "#data_Set = data_set.dropna('columns')\n",
        "x= data_set.iloc[:, 0:41].values \n",
        "y= data_set.iloc[:, 41].values  \n",
        "d = {}\n",
        "# Counting data poihnts of each class\n",
        "for val in y:\n",
        "  if val in d:\n",
        "    d[val] = d[val]+1\n",
        "  else:\n",
        "    d[val] = 1\n",
        "\n",
        "print(d)\n",
        "\n",
        "from sklearn.preprocessing import LabelEncoder  \n",
        "label_encoder_x1= LabelEncoder()  \n",
        "label_encoder_x2= LabelEncoder() \n",
        "label_encoder_x3= LabelEncoder()  \n",
        "    \n",
        "x[:, 1]= label_encoder_x1.fit_transform(x[:, 1])  \n",
        "x[:, 2]= label_encoder_x2.fit_transform(x[:, 2])  \n",
        "x[:, 3]= label_encoder_x3.fit_transform(x[:, 3]) \n",
        "\n",
        "attack_class = {'normal.': 'Normal', 'back.': 'DOS', 'smurf.':'DOS', 'neptune.':'DOS', 'pod.': 'DOS', 'teardrop.':'DOS', 'land.': 'DOS',\n",
        "                'multihop.':'R2L', 'ftp_write.': 'R2L', 'guess_passwd.': 'R2L', 'imap.': 'R2L', 'phf.': 'R2L', 'spy.':'R2L', 'warezmaster.':'R2L', 'warezclient.':'R2L',\n",
        "                'rootkit.':'U2R', 'loadmodule.':'U2R', 'buffer_overflow.': 'U2R', 'perl.': 'U2R',\n",
        "                'portsweep.':'PROBE', 'satan.':'PROBE', 'ipsweep.': 'PROBE', 'nmap.':'PROBE'}\n",
        "\n",
        "from sklearn.model_selection import train_test_split  \n",
        "x_train, x_test, y_train, y_test= train_test_split(x, y, test_size= 0.10, random_state=0) \n",
        "\n",
        "\n",
        "\n",
        "for i in range(len(y_train)):\n",
        "  y_train[i] = attack_class[y_train[i]]\n",
        "\n",
        "for i in range(len(y_test)):\n",
        "  y_test[i] = attack_class[y_test[i]]\n",
        "\n",
        "\n",
        "y_train2 = y_train.copy()\n",
        "y_test2 = y_test.copy()\n",
        "for i in range(len(y_train2)):\n",
        "  if y_train2[i] == 'Normal':\n",
        "    y_train2[i] = 'Normal'\n",
        "  else:\n",
        "    y_train2[i] = 'Intrusion'\n",
        "\n",
        "for i in range(len(y_test2)):\n",
        "  if y_test2[i] == 'Normal':\n",
        "    y_test2[i] = 'Normal'\n",
        "  else:\n",
        "    y_test2[i] = 'Intrusion'"
      ],
      "execution_count": null,
      "outputs": [
        {
          "output_type": "stream",
          "text": [
            "{'normal.': 972780, 'buffer_overflow.': 30, 'loadmodule.': 9, 'perl.': 3, 'neptune.': 1072017, 'smurf.': 2807886, 'guess_passwd.': 53, 'pod.': 264, 'teardrop.': 979, 'portsweep.': 10413, 'ipsweep.': 12481, 'land.': 21, 'ftp_write.': 8, 'back.': 2203, 'imap.': 12, 'satan.': 15892, 'phf.': 4, 'nmap.': 2316, 'multihop.': 7, 'warezmaster.': 20, 'warezclient.': 1020, 'spy.': 2, 'rootkit.': 10}\n"
          ],
          "name": "stdout"
        }
      ]
    },
    {
      "cell_type": "code",
      "metadata": {
        "colab": {
          "base_uri": "https://localhost:8080/"
        },
        "id": "ludFAGpP4ZEE",
        "outputId": "6f8c3eda-898f-470f-dc91-767911c0d4b4"
      },
      "source": [
        "print(len(y))"
      ],
      "execution_count": null,
      "outputs": [
        {
          "output_type": "stream",
          "text": [
            "4898430\n"
          ],
          "name": "stdout"
        }
      ]
    },
    {
      "cell_type": "code",
      "metadata": {
        "id": "VmevQl9N5qj1"
      },
      "source": [
        "import time\n",
        "from sklearn import metrics"
      ],
      "execution_count": null,
      "outputs": []
    },
    {
      "cell_type": "markdown",
      "metadata": {
        "id": "w4E-NYmH168i"
      },
      "source": [
        "## **K-Means**"
      ]
    },
    {
      "cell_type": "code",
      "metadata": {
        "colab": {
          "base_uri": "https://localhost:8080/"
        },
        "id": "RYaz_Ts-GXJX",
        "outputId": "e77e58d3-1dc0-4008-9358-dee55f41124b"
      },
      "source": [
        "from sklearn.cluster import KMeans\n",
        "kmeans1 = KMeans(n_clusters = 5)\n",
        "time_start = time.time()\n",
        "kmeans1.fit(x_train)\n",
        "time_end = time.time()\n",
        "print(\"Training time: \", time_end - time_start)\n",
        "\n",
        "time_start = time.time()\n",
        "y_pred = kmeans1.predict(x_test)\n",
        "time_end = time.time()\n",
        "print(\"Testing time: \", time_end - time_start)\n",
        "print(y_pred)\n",
        "\n",
        "for i in range(5):\n",
        "  print(list(y_pred).count(i))\n",
        "\n",
        "print(nm.unique(y_pred))"
      ],
      "execution_count": null,
      "outputs": [
        {
          "output_type": "stream",
          "text": [
            "Training time:  67.74123787879944\n",
            "Testing time:  1.8915979862213135\n",
            "[0 0 0 ... 0 0 0]\n",
            "489842\n",
            "0\n",
            "0\n",
            "0\n",
            "1\n",
            "[0 4]\n"
          ],
          "name": "stdout"
        }
      ]
    },
    {
      "cell_type": "code",
      "metadata": {
        "colab": {
          "base_uri": "https://localhost:8080/"
        },
        "id": "7-dIs-nC6Xcc",
        "outputId": "a8eef8b3-c517-4dbc-c992-d5737623f526"
      },
      "source": [
        "from sklearn.cluster import KMeans\n",
        "\n",
        "kmeans2 = KMeans(n_clusters = 2)\n",
        "time_start = time.time()\n",
        "kmeans2.fit(x_train)\n",
        "time_end = time.time()\n",
        "\n",
        "print(\"Training time: \", time_end - time_start)\n",
        "time_start = time.time()\n",
        "y_pred2 = kmeans2.predict(x_train)\n",
        "time_end = time.time()\n",
        "print(\"Testing time: \", time_end - time_start)\n",
        "print(y_pred2)\n",
        "\n",
        "for i in range(2):\n",
        "  print(list(y_pred2).count(i))\n",
        "\n",
        "\n",
        "print(nm.unique(y_pred2))"
      ],
      "execution_count": null,
      "outputs": [
        {
          "output_type": "stream",
          "text": [
            "Training time:  49.565539836883545\n",
            "Testing time:  15.658473491668701\n",
            "[0 0 0 ... 0 0 0]\n",
            "4408583\n",
            "4\n",
            "[0 1]\n"
          ],
          "name": "stdout"
        }
      ]
    },
    {
      "cell_type": "markdown",
      "metadata": {
        "id": "GlFpBhJp2OVE"
      },
      "source": [
        "## **Random Forest**"
      ]
    },
    {
      "cell_type": "code",
      "metadata": {
        "colab": {
          "base_uri": "https://localhost:8080/"
        },
        "id": "bvz1-W6BE1oL",
        "outputId": "e87a781f-0e47-4b56-fffe-6b44616d1e71"
      },
      "source": [
        "from sklearn.ensemble import RandomForestClassifier\n",
        "from sklearn.metrics import classification_report\n",
        "\n",
        "classifier1 = RandomForestClassifier(n_estimators = 50)\n",
        "time_start = time.time()\n",
        "classifier1.fit(x_train, y_train)\n",
        "time_end = time.time()\n",
        "print(\"Training time: \", time_end - time_start)\n",
        "\n",
        "time_start = time.time()\n",
        "y_pred = classifier1.predict(x_test)\n",
        "time_end = time.time()\n",
        "print(\"Testing time: \", time_end - time_start)\n",
        "print(\"Accuracy:\",metrics.accuracy_score(y_test, y_pred))\n",
        "print(confusion_matrix(y_test, y_pred))\n",
        "result1 = classification_report(y_test, y_pred, zero_division = 0)\n",
        "print(result1)"
      ],
      "execution_count": null,
      "outputs": [
        {
          "output_type": "stream",
          "text": [
            "Training time:  536.7322769165039\n",
            "Testing time:  4.4007720947265625\n",
            "Accuracy: 0.9999714194139755\n",
            "[[388263      2      0      0      0]\n",
            " [     0  97321      0      0      0]\n",
            " [     0      3   4140      0      0]\n",
            " [     0      4      0    104      0]\n",
            " [     0      5      0      0      1]]\n",
            "              precision    recall  f1-score   support\n",
            "\n",
            "         DOS       1.00      1.00      1.00    388265\n",
            "      Normal       1.00      1.00      1.00     97321\n",
            "       PROBE       1.00      1.00      1.00      4143\n",
            "         R2L       1.00      0.96      0.98       108\n",
            "         U2R       1.00      0.17      0.29         6\n",
            "\n",
            "    accuracy                           1.00    489843\n",
            "   macro avg       1.00      0.83      0.85    489843\n",
            "weighted avg       1.00      1.00      1.00    489843\n",
            "\n"
          ],
          "name": "stdout"
        }
      ]
    },
    {
      "cell_type": "code",
      "metadata": {
        "colab": {
          "base_uri": "https://localhost:8080/"
        },
        "id": "Yd-B0tbV6lFl",
        "outputId": "70ec762a-3d26-47a1-c1a8-d1f294bee1b8"
      },
      "source": [
        "from sklearn.ensemble import RandomForestClassifier\n",
        "from sklearn.metrics import classification_report\n",
        "\n",
        "classifier2 = RandomForestClassifier(n_estimators = 50)\n",
        "time_start = time.time()\n",
        "classifier2.fit(x_train, y_train2)\n",
        "time_end = time.time()\n",
        "print(\"Training time: \", time_end - time_start)\n",
        "\n",
        "time_start = time.time()\n",
        "y_pred2 = classifier2.predict(x_test)\n",
        "time_end = time.time()\n",
        "print(\"Testing time: \", time_end - time_start)\n",
        "print(\"Accuracy:\",metrics.accuracy_score(y_test2, y_pred2))\n",
        "print(confusion_matrix(y_test2, y_pred2))\n",
        "result2 = classification_report(y_test2, y_pred2)\n",
        "print(result2)"
      ],
      "execution_count": null,
      "outputs": [
        {
          "output_type": "stream",
          "text": [
            "Training time:  478.39593982696533\n",
            "Testing time:  3.7377870082855225\n",
            "Accuracy: 0.9999714194139755\n",
            "[[392509     13]\n",
            " [     1  97320]]\n",
            "              precision    recall  f1-score   support\n",
            "\n",
            "   Intrusion       1.00      1.00      1.00    392522\n",
            "      Normal       1.00      1.00      1.00     97321\n",
            "\n",
            "    accuracy                           1.00    489843\n",
            "   macro avg       1.00      1.00      1.00    489843\n",
            "weighted avg       1.00      1.00      1.00    489843\n",
            "\n"
          ],
          "name": "stdout"
        }
      ]
    },
    {
      "cell_type": "markdown",
      "metadata": {
        "id": "47WV2R5J2qyZ"
      },
      "source": [
        "## **Naive- Bayes Classifier**"
      ]
    },
    {
      "cell_type": "code",
      "metadata": {
        "colab": {
          "base_uri": "https://localhost:8080/"
        },
        "id": "sVLY2dD0Fpe8",
        "outputId": "8df72873-197a-4d43-b904-40f3ceb8ae3a"
      },
      "source": [
        "from sklearn.naive_bayes import GaussianNB\n",
        "\n",
        "gnb1 = GaussianNB()\n",
        "time_start = time.time()\n",
        "gnb1.fit(x_train, y_train)\n",
        "time_end   = time.time()\n",
        "print(\"Training time: \", time_end - time_start)\n",
        "\n",
        "time_start = time.time()\n",
        "y_pred = gnb1.predict(x_test)\n",
        "time_end = time.time()\n",
        "print(\"Testing time: \", time_end - time_start)\n",
        "print(\"Accuracy:\",metrics.accuracy_score(y_test, y_pred))\n",
        "result1 = classification_report(y_test, y_pred, zero_division =  0)\n",
        "print(confusion_matrix(y_test, y_pred))\n",
        "print(result1)\n"
      ],
      "execution_count": null,
      "outputs": [
        {
          "output_type": "stream",
          "text": [
            "Training time:  26.872153997421265\n",
            "Testing time:  2.535879373550415\n",
            "Accuracy: 0.9281075773257962\n",
            "[[387935    262      0      0     68]\n",
            " [ 27294  66590    787     98   2552]\n",
            " [  2626   1158     98      0    261]\n",
            " [     5     43     19      0     41]\n",
            " [     1      1      0      0      4]]\n",
            "              precision    recall  f1-score   support\n",
            "\n",
            "         DOS       0.93      1.00      0.96    388265\n",
            "      Normal       0.98      0.68      0.81     97321\n",
            "       PROBE       0.11      0.02      0.04      4143\n",
            "         R2L       0.00      0.00      0.00       108\n",
            "         U2R       0.00      0.67      0.00         6\n",
            "\n",
            "    accuracy                           0.93    489843\n",
            "   macro avg       0.40      0.47      0.36    489843\n",
            "weighted avg       0.93      0.93      0.92    489843\n",
            "\n"
          ],
          "name": "stdout"
        }
      ]
    },
    {
      "cell_type": "code",
      "metadata": {
        "id": "BMjC87-EMArs",
        "colab": {
          "base_uri": "https://localhost:8080/"
        },
        "outputId": "b2c40855-e293-43d7-fc1a-9e3f9392383c"
      },
      "source": [
        "from sklearn.metrics import confusion_matrix\n",
        "print(nm.unique(y_pred))\n",
        "print(confusion_matrix(y_test, y_pred))"
      ],
      "execution_count": null,
      "outputs": [
        {
          "output_type": "stream",
          "text": [
            "['DOS' 'Normal' 'PROBE' 'R2L' 'U2R']\n",
            "[[387935    262      0      0     68]\n",
            " [ 27294  66590    787     98   2552]\n",
            " [  2626   1158     98      0    261]\n",
            " [     5     43     19      0     41]\n",
            " [     1      1      0      0      4]]\n"
          ],
          "name": "stdout"
        }
      ]
    },
    {
      "cell_type": "code",
      "metadata": {
        "id": "z87XoiaA63Yr",
        "colab": {
          "base_uri": "https://localhost:8080/"
        },
        "outputId": "0c025ac4-7c45-402b-c96d-00b31c8a17c9"
      },
      "source": [
        "from sklearn.naive_bayes import GaussianNB\n",
        "from sklearn.metrics import classification_report\n",
        "\n",
        "\n",
        "gnb2 = GaussianNB()\n",
        "time_start = time.time()\n",
        "gnb2.fit(x_train, y_train2)\n",
        "time_end = time.time()\n",
        "print(\"Training time: \", time_end - time_start)\n",
        "\n",
        "time_start = time.time()\n",
        "y_pred2 = gnb2.predict(x_test)\n",
        "time_end = time.time()\n",
        "print(\"Testing time: \", time_end - time_start)\n",
        "print(\"Accuracy:\",metrics.accuracy_score(y_test2, y_pred2))\n",
        "result2 = classification_report(y_test2, y_pred2)\n",
        "print(confusion_matrix(y_test2, y_pred2))\n",
        "print(result2)"
      ],
      "execution_count": null,
      "outputs": [
        {
          "output_type": "stream",
          "text": [
            "Training time:  25.112592935562134\n",
            "Testing time:  2.0298562049865723\n",
            "Accuracy: 0.905853508164861\n",
            "[[347174  45348]\n",
            " [   769  96552]]\n",
            "              precision    recall  f1-score   support\n",
            "\n",
            "   Intrusion       1.00      0.88      0.94    392522\n",
            "      Normal       0.68      0.99      0.81     97321\n",
            "\n",
            "    accuracy                           0.91    489843\n",
            "   macro avg       0.84      0.94      0.87    489843\n",
            "weighted avg       0.93      0.91      0.91    489843\n",
            "\n"
          ],
          "name": "stdout"
        }
      ]
    },
    {
      "cell_type": "markdown",
      "metadata": {
        "id": "GfMAaZM83Dec"
      },
      "source": [
        "## **Decision Tree**"
      ]
    },
    {
      "cell_type": "code",
      "metadata": {
        "id": "jcQuKfjZBklm",
        "colab": {
          "base_uri": "https://localhost:8080/"
        },
        "outputId": "78e1b082-a6a2-4614-8d3c-cbade656f50d"
      },
      "source": [
        "from sklearn.tree import DecisionTreeClassifier\n",
        "from sklearn.metrics import classification_report\n",
        "\n",
        "clfd = DecisionTreeClassifier(criterion =\"entropy\", max_depth = 4)\n",
        "time_start = time.time()\n",
        "clfd.fit(x_train, y_train)\n",
        "time_end = time.time()\n",
        "print(\"Training time: \", time_end - time_start)\n",
        "\n",
        "time_start = time.time()\n",
        "y_pred = clfd.predict(x_test)\n",
        "time_end = time.time()\n",
        "print(\"Testing time: \", time_end- time_start)\n",
        "print(\"Accuracy:\",metrics.accuracy_score(y_test, y_pred))\n",
        "result = classification_report(y_test, y_pred, zero_division = 0)\n",
        "print(confusion_matrix(y_test, y_pred))\n",
        "print(result)\n"
      ],
      "execution_count": null,
      "outputs": [
        {
          "output_type": "stream",
          "text": [
            "Training time:  51.00517392158508\n",
            "Testing time:  1.696615219116211\n",
            "Accuracy: 0.9969684164109724\n",
            "[[388031    230      4      0      0]\n",
            " [     3  96483    835      0      0]\n",
            " [    26    273   3844      0      0]\n",
            " [     0    106      2      0      0]\n",
            " [     0      4      2      0      0]]\n",
            "              precision    recall  f1-score   support\n",
            "\n",
            "         DOS       1.00      1.00      1.00    388265\n",
            "      Normal       0.99      0.99      0.99     97321\n",
            "       PROBE       0.82      0.93      0.87      4143\n",
            "         R2L       0.00      0.00      0.00       108\n",
            "         U2R       0.00      0.00      0.00         6\n",
            "\n",
            "    accuracy                           1.00    489843\n",
            "   macro avg       0.56      0.58      0.57    489843\n",
            "weighted avg       1.00      1.00      1.00    489843\n",
            "\n"
          ],
          "name": "stdout"
        }
      ]
    },
    {
      "cell_type": "code",
      "metadata": {
        "id": "igwm65-mEflg",
        "colab": {
          "base_uri": "https://localhost:8080/"
        },
        "outputId": "2e8ce380-04c7-4e4e-d7ba-7b2faffebfdb"
      },
      "source": [
        "from sklearn.tree import DecisionTreeClassifier\n",
        "from sklearn.metrics import classification_report\n",
        "\n",
        "clfd = DecisionTreeClassifier(criterion =\"entropy\", max_depth = 4)\n",
        "time_start = time.time()\n",
        "clfd.fit(x_train, y_train2)\n",
        "time_end = time.time()\n",
        "print(\"Training time: \", time_end - time_start)\n",
        "\n",
        "time_start = time.time()\n",
        "y_pred2 = clfd.predict(x_test)\n",
        "time_end = time.time()\n",
        "print(\"Testing time: \", time_end - time_start)\n",
        "print(\"Accuracy:\",metrics.accuracy_score(y_test2, y_pred2))\n",
        "result = classification_report(y_test2, y_pred2, zero_division = 0)\n",
        "print(confusion_matrix(y_test2, y_pred2))\n",
        "print(result)\n"
      ],
      "execution_count": null,
      "outputs": [
        {
          "output_type": "stream",
          "text": [
            "Training time:  49.56501889228821\n",
            "Testing time:  1.7028801441192627\n",
            "Accuracy: 0.9988731083224625\n",
            "[[391982    540]\n",
            " [    12  97309]]\n",
            "              precision    recall  f1-score   support\n",
            "\n",
            "   Intrusion       1.00      1.00      1.00    392522\n",
            "      Normal       0.99      1.00      1.00     97321\n",
            "\n",
            "    accuracy                           1.00    489843\n",
            "   macro avg       1.00      1.00      1.00    489843\n",
            "weighted avg       1.00      1.00      1.00    489843\n",
            "\n"
          ],
          "name": "stdout"
        }
      ]
    }
  ]
}